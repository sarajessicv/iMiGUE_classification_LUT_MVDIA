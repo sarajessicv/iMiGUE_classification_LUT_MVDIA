{
 "cells": [
  {
   "cell_type": "markdown",
   "metadata": {},
   "source": [
    "Imports"
   ]
  },
  {
   "cell_type": "code",
   "execution_count": 1,
   "metadata": {},
   "outputs": [],
   "source": [
    "import numpy as np\n",
    "import tensorflow as tf\n",
    "import tensorflow_hub as hub\n",
    "from tensorflow.keras import layers\n",
    "from tensorflow.keras import models"
   ]
  },
  {
   "cell_type": "markdown",
   "metadata": {},
   "source": [
    "Constants"
   ]
  },
  {
   "cell_type": "code",
   "execution_count": 2,
   "metadata": {},
   "outputs": [],
   "source": [
    "IMG_SIZE = 192 # Size of images that fit the MoveNet requirement"
   ]
  },
  {
   "cell_type": "markdown",
   "metadata": {},
   "source": [
    "Loading the testing data"
   ]
  },
  {
   "cell_type": "code",
   "execution_count": 3,
   "metadata": {},
   "outputs": [
    {
     "name": "stdout",
     "output_type": "stream",
     "text": [
      "Found 12088 files belonging to 32 classes.\n"
     ]
    }
   ],
   "source": [
    "\n",
    "test_dir = \"../testing_modified\" # Change this to an appropriate directory for testing, \n",
    "                        # it should contain the test samples in the same format as in the training folder i.e.\n",
    "                        # images in their class specific folders (for example \"./testing/32/*.png\")\n",
    "\n",
    "test_ds = tf.keras.utils.image_dataset_from_directory(\n",
    "    test_dir,\n",
    "    labels=\"inferred\",\n",
    "    label_mode=\"categorical\",\n",
    "    color_mode=\"rgb\",\n",
    "    image_size=(IMG_SIZE, IMG_SIZE),\n",
    "    batch_size=None,\n",
    ")"
   ]
  },
  {
   "cell_type": "markdown",
   "metadata": {},
   "source": [
    "Skeleton data extraction with Movenet-SinglePose-Lightning model"
   ]
  },
  {
   "cell_type": "code",
   "execution_count": 4,
   "metadata": {},
   "outputs": [
    {
     "name": "stderr",
     "output_type": "stream",
     "text": [
      "2024-03-30 16:08:37.229436: W tensorflow/core/framework/local_rendezvous.cc:404] Local rendezvous is aborting with status: OUT_OF_RANGE: End of sequence\n"
     ]
    }
   ],
   "source": [
    "module = hub.load(\"https://tfhub.dev/google/movenet/singlepose/lightning/4\")\n",
    "\n",
    "def movenet(input_image, module):\n",
    "\n",
    "\n",
    "    model = module.signatures['serving_default']\n",
    "\n",
    "    # SavedModel format expects tensor type of int32.\n",
    "    input_image = tf.cast(input_image, dtype=tf.int32)\n",
    "    input_image = tf.expand_dims(input_image, 0)\n",
    "    # Run model inference.\n",
    "    outputs = model(input_image)\n",
    "    # Output is a [1, 1, 17, 3] tensor.\n",
    "    keypoints_with_scores = outputs['output_0'].numpy()\n",
    "    return keypoints_with_scores\n",
    "\n",
    "skeleton_data = []\n",
    "for image, label in test_ds: # this can take a while\n",
    "    keypoints_with_scores = movenet(image, module)\n",
    "    skeleton = keypoints_with_scores\n",
    "    skeleton[skeleton[:, :, :, 2] < 0.3] = 0 # 0.3 is a recommended threshold for the score of nodes\n",
    "\n",
    "    skeleton_data.append(skeleton.flatten())\n",
    "\n",
    "skeleton_ds = tf.data.Dataset.from_tensor_slices(skeleton_data)"
   ]
  },
  {
   "cell_type": "markdown",
   "metadata": {},
   "source": [
    "Obtaining the labels"
   ]
  },
  {
   "cell_type": "code",
   "execution_count": 5,
   "metadata": {},
   "outputs": [
    {
     "name": "stdout",
     "output_type": "stream",
     "text": [
      "['1' '10' '11' '12' '13' '14' '15' '16' '17' '18' '19' '2' '20' '21' '22'\n",
      " '23' '24' '25' '26' '27' '28' '29' '3' '30' '31' '32' '4' '5' '6' '7' '8'\n",
      " '9']\n"
     ]
    }
   ],
   "source": [
    "label_names = np.array(test_ds.class_names)\n",
    "print(label_names)"
   ]
  },
  {
   "cell_type": "markdown",
   "metadata": {},
   "source": [
    "Combining the datasets into multimodal inputs"
   ]
  },
  {
   "cell_type": "code",
   "execution_count": 6,
   "metadata": {},
   "outputs": [],
   "source": [
    "def make_multimodal_dataset(image_and_label, skeleton):\n",
    "    image, label = image_and_label\n",
    "    return (image, skeleton), label\n",
    "\n",
    "test_ds = tf.data.Dataset.zip(test_ds, skeleton_ds)\n",
    "test_ds = test_ds.map(make_multimodal_dataset).batch(128)\n",
    "test_ds = test_ds.prefetch(buffer_size=tf.data.AUTOTUNE)"
   ]
  },
  {
   "cell_type": "code",
   "execution_count": 7,
   "metadata": {},
   "outputs": [
    {
     "name": "stdout",
     "output_type": "stream",
     "text": [
      "(128, 192, 192, 3)\n",
      "(128, 51)\n",
      "(128, 32)\n"
     ]
    },
    {
     "name": "stderr",
     "output_type": "stream",
     "text": [
      "2024-03-30 16:08:37.693730: W tensorflow/core/framework/local_rendezvous.cc:404] Local rendezvous is aborting with status: OUT_OF_RANGE: End of sequence\n"
     ]
    }
   ],
   "source": [
    "for (example_imgs, example_labels), example_skeleton in test_ds.take(1):\n",
    "    print(example_imgs.shape)\n",
    "    print(example_labels.shape)\n",
    "    print(example_skeleton.shape)\n"
   ]
  },
  {
   "cell_type": "markdown",
   "metadata": {},
   "source": [
    "Defining the multimodal model base for loading the weights"
   ]
  },
  {
   "cell_type": "code",
   "execution_count": 8,
   "metadata": {},
   "outputs": [],
   "source": [
    "def MultimodalModel():\n",
    "\n",
    "    dense_model = models.Sequential(\n",
    "        [\n",
    "            layers.Input(shape=(51,)),\n",
    "\n",
    "            layers.Dense(1024, \n",
    "                        activation=\"relu\",\n",
    "                        kernel_regularizer=tf.keras.regularizers.l1(0.0001),\n",
    "                        kernel_initializer=\"lecun_uniform\"),\n",
    "            layers.Dense(512, \n",
    "                        activation=\"relu\",\n",
    "                        kernel_regularizer=tf.keras.regularizers.l1(0.0001),\n",
    "                        kernel_initializer=\"lecun_uniform\"),\n",
    "            layers.Dense(\n",
    "                256,\n",
    "                activation=\"relu\",\n",
    "                kernel_regularizer=tf.keras.regularizers.l1(0.0001),\n",
    "                kernel_initializer=\"lecun_uniform\",\n",
    "            )\n",
    "        ],\n",
    "        name=\"skeleton_dense\"\n",
    "    )\n",
    "\n",
    "    base_model = tf.keras.applications.EfficientNetV2B0(\n",
    "        weights=\"imagenet\",\n",
    "        include_top=False,\n",
    "        input_shape=(192, 192, 3),\n",
    "        include_preprocessing=True,\n",
    "    )\n",
    "    base_model.trainable = False\n",
    "\n",
    "    cnn_model = models.Sequential(\n",
    "        [\n",
    "            layers.Input(shape=(192, 192, 3)),\n",
    "            base_model,\n",
    "            layers.GlobalAveragePooling2D(),\n",
    "            layers.Dropout(0.5),\n",
    "            layers.Dense(\n",
    "                256,\n",
    "                activation=\"relu\",\n",
    "                kernel_regularizer=tf.keras.regularizers.l1(0.0001),\n",
    "                kernel_initializer=\"lecun_uniform\",\n",
    "            ),\n",
    "            layers.Dropout(0.5),\n",
    "            layers.Dense(\n",
    "                128,\n",
    "                activation=\"relu\",\n",
    "                kernel_regularizer=tf.keras.regularizers.l1(0.0001),\n",
    "                kernel_initializer=\"lecun_uniform\",\n",
    "            ),\n",
    "        ],\n",
    "        name=\"Transfered_Efficient\"\n",
    "    )\n",
    "\n",
    "    image_input = layers.Input(shape=(192, 192, 3))\n",
    "    skeleton_input = layers.Input(shape=(51,))\n",
    "\n",
    "    cnn_output = cnn_model(image_input)\n",
    "    skeleton_output = dense_model(skeleton_input)\n",
    "\n",
    "    concat = layers.Concatenate()([cnn_output, skeleton_output])\n",
    "    dense_out = layers.Dense(128, activation=\"relu\")(concat)\n",
    "    model_output = layers.Dense(32, activation=\"softmax\")(dense_out)\n",
    "    return models.Model([image_input, skeleton_input], model_output)\n",
    "\n",
    "model = MultimodalModel()\n",
    "\n",
    "model.compile(\n",
    "    loss='categorical_crossentropy',\n",
    "    optimizer='adam',\n",
    "    metrics=[tf.keras.metrics.CategoricalAccuracy(),\n",
    "             tf.keras.metrics.TopKCategoricalAccuracy(k=5)]\n",
    ")"
   ]
  },
  {
   "cell_type": "markdown",
   "metadata": {},
   "source": [
    "Build the model and load pretrained weights to it. The model loading is done this way as there seems to be a bug regarding tf.keras.models.load_model() with the latest version of Tensorflow. A Github issue regarding this can be found [here](https://github.com/tensorflow/tensorflow/issues/63853)."
   ]
  },
  {
   "cell_type": "code",
   "execution_count": 9,
   "metadata": {},
   "outputs": [
    {
     "name": "stdout",
     "output_type": "stream",
     "text": [
      "\u001b[1m1/1\u001b[0m \u001b[32m━━━━━━━━━━━━━━━━━━━━\u001b[0m\u001b[37m\u001b[0m \u001b[1m1s\u001b[0m 922ms/step\n"
     ]
    },
    {
     "name": "stderr",
     "output_type": "stream",
     "text": [
      "/Users/sara/Library/CloudStorage/OneDrive-LUTUniversity/DIPPA_OPINNOT/MVDIA/PA/.venv/lib/python3.11/site-packages/keras/src/saving/saving_lib.py:396: UserWarning: Skipping variable loading for optimizer 'adam', because it has 2 variables whereas the saved optimizer has 44 variables. \n",
      "  trackable.load_own_variables(weights_store.get(inner_path))\n"
     ]
    }
   ],
   "source": [
    "\n",
    "model.predict((np.ones((1,192,192,3)),np.ones((1,51)))) # dummy input to \"build\" the model\n",
    "model.load_weights(\"models/mm_model2_weights_only.weights.h5\", skip_mismatch=False) # load the trained weights"
   ]
  },
  {
   "cell_type": "markdown",
   "metadata": {},
   "source": [
    "Model evaluation"
   ]
  },
  {
   "cell_type": "code",
   "execution_count": 10,
   "metadata": {},
   "outputs": [
    {
     "name": "stdout",
     "output_type": "stream",
     "text": [
      "95/95 - 88s - 931ms/step - categorical_accuracy: 0.4702 - loss: 1.9576 - top_k_categorical_accuracy: 0.8926\n",
      "Top 1 accuracy: 47.02 % | Top 5 accuracy: 89.26 %\n"
     ]
    }
   ],
   "source": [
    "metrics = model.evaluate(test_ds, return_dict=True, verbose=2)\n",
    "print(f\"Top 1 accuracy: {metrics['categorical_accuracy']*100:.2f} % | Top 5 accuracy: {metrics['top_k_categorical_accuracy']*100:.2f} %\")"
   ]
  }
 ],
 "metadata": {
  "kernelspec": {
   "display_name": "Python 3",
   "language": "python",
   "name": "python3"
  },
  "language_info": {
   "codemirror_mode": {
    "name": "ipython",
    "version": 3
   },
   "file_extension": ".py",
   "mimetype": "text/x-python",
   "name": "python",
   "nbconvert_exporter": "python",
   "pygments_lexer": "ipython3",
   "version": "3.11.4"
  }
 },
 "nbformat": 4,
 "nbformat_minor": 2
}
