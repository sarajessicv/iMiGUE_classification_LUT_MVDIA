{
 "cells": [
  {
   "cell_type": "markdown",
   "metadata": {},
   "source": [
    "Dataset splitting (training, validation/testing)"
   ]
  },
  {
   "cell_type": "code",
   "execution_count": 1,
   "metadata": {},
   "outputs": [],
   "source": [
    "import os\n",
    "import shutil\n",
    "import numpy as np\n",
    "from distutils.dir_util import copy_tree\n"
   ]
  },
  {
   "cell_type": "code",
   "execution_count": 3,
   "metadata": {},
   "outputs": [],
   "source": [
    "src_dir = \"./training_modified\" # a copy of training\n",
    "dest_dir = \"./testing_modified\"\n",
    "\n",
    "if not os.path.exists(dest_dir):\n",
    "    os.mkdir(dest_dir)\n",
    "\n",
    "\n",
    "for fname in os.listdir(src_dir):\n",
    "    folder = os.path.join(src_dir, fname)\n",
    "    new_folder = os.path.join(dest_dir, fname)\n",
    "    if not os.path.exists(new_folder):\n",
    "        os.mkdir(new_folder)\n",
    "    if os.path.isdir(folder):\n",
    "        total_num_files = len(\n",
    "            [f for f in os.listdir(folder) if os.path.isfile(os.path.join(folder, f))]\n",
    "        )\n",
    "        num_files = total_num_files\n",
    "\n",
    "    for file in os.listdir(folder):\n",
    "        path = os.path.join(folder, file)\n",
    "        new_path = os.path.join(new_folder, file)\n",
    "        shutil.copyfile(path, new_path)\n",
    "        os.remove(path)\n",
    "        num_files -= 1\n",
    "        if num_files <= np.ceil(total_num_files*0.8):\n",
    "            break\n"
   ]
  }
 ],
 "metadata": {
  "kernelspec": {
   "display_name": "Python 3",
   "language": "python",
   "name": "python3"
  },
  "language_info": {
   "codemirror_mode": {
    "name": "ipython",
    "version": 3
   },
   "file_extension": ".py",
   "mimetype": "text/x-python",
   "name": "python",
   "nbconvert_exporter": "python",
   "pygments_lexer": "ipython3",
   "version": "3.11.4"
  }
 },
 "nbformat": 4,
 "nbformat_minor": 2
}
